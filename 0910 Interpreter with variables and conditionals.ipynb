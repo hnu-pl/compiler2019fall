{
 "cells": [
  {
   "cell_type": "code",
   "execution_count": 1,
   "metadata": {},
   "outputs": [
    {
     "data": {
      "text/plain": []
     },
     "metadata": {},
     "output_type": "display_data"
    }
   ],
   "source": [
    ":!./install.sh"
   ]
  },
  {
   "cell_type": "markdown",
   "metadata": {},
   "source": [
    "# 인터프리터에서 변수, 조건문 다루기\n",
    "TODO"
   ]
  },
  {
   "cell_type": "code",
   "execution_count": 2,
   "metadata": {},
   "outputs": [],
   "source": [
    "data Expr = Var String\n",
    "          | Val Int\n",
    "          | Add Expr Expr\n",
    "          -- | Sub Expr Expr\n",
    "          -- | Mul Expr Expr\n",
    "          -- | Div Expr Expr\n",
    "          | If Expr Expr Expr\n",
    "          deriving Show\n",
    "\n",
    "type Env = [ (String, Int) ]\n",
    "\n",
    "eval :: Env -> Expr -> Int\n",
    "eval env (Var x) = case lookup x env of\n",
    "                     Nothing -> error (x ++ \" not found\") \n",
    "                     Just n  -> n\n",
    "eval env (Val n) = n\n",
    "eval env (Add e1 e2) = eval env e1 + eval env e2\n",
    "eval env (If e e1 e0) = case eval env e of\n",
    "                          0 -> eval env e0\n",
    "                          _ -> eval env e1"
   ]
  },
  {
   "cell_type": "code",
   "execution_count": 4,
   "metadata": {},
   "outputs": [
    {
     "data": {
      "text/plain": [
       "4"
      ]
     },
     "metadata": {},
     "output_type": "display_data"
    },
    {
     "data": {
      "text/plain": [
       "5"
      ]
     },
     "metadata": {},
     "output_type": "display_data"
    },
    {
     "ename": "",
     "evalue": "",
     "output_type": "error",
     "traceback": [
      "b not found\nCallStack (from HasCallStack):\n  error, called at <interactive>:12:33 in interactive:Ghci20"
     ]
    }
   ],
   "source": [
    "{-  b = ?,  x = 2, y = 4\n",
    "\n",
    "    if b then (x + 3) else y  -}\n",
    "\n",
    "e = If (Var \"b\") (Add (Var \"x\") (Val 3)) (Var \"y\")\n",
    "\n",
    "eval [(\"x\",2), (\"y\",4), (\"b\",0)] e\n",
    "eval [(\"x\",2), (\"y\",4), (\"b\",1)] e  \n",
    "eval [(\"x\",2), (\"y\",4)]          e -- 에러 발생"
   ]
  },
  {
   "cell_type": "code",
   "execution_count": null,
   "metadata": {},
   "outputs": [],
   "source": []
  },
  {
   "cell_type": "code",
   "execution_count": null,
   "metadata": {},
   "outputs": [],
   "source": []
  }
 ],
 "metadata": {
  "kernelspec": {
   "display_name": "Haskell",
   "language": "haskell",
   "name": "haskell"
  },
  "language_info": {
   "codemirror_mode": "ihaskell",
   "file_extension": ".hs",
   "name": "haskell",
   "pygments_lexer": "Haskell",
   "version": "8.6.5"
  }
 },
 "nbformat": 4,
 "nbformat_minor": 4
}
