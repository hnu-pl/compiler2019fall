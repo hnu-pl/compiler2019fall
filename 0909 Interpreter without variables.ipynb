{
 "cells": [
  {
   "cell_type": "code",
   "execution_count": 1,
   "metadata": {},
   "outputs": [
    {
     "data": {
      "text/plain": []
     },
     "metadata": {},
     "output_type": "display_data"
    }
   ],
   "source": [
    ":!./install.sh"
   ]
  },
  {
   "cell_type": "code",
   "execution_count": 2,
   "metadata": {},
   "outputs": [],
   "source": [
    ":opt no-lint"
   ]
  },
  {
   "cell_type": "markdown",
   "metadata": {},
   "source": [
    "# 인터프리터 맛보기\n",
    "\n",
    "* PiH2nd 8.7, 16.7, 17"
   ]
  },
  {
   "cell_type": "code",
   "execution_count": 3,
   "metadata": {},
   "outputs": [],
   "source": [
    "data Expr = Val Int\n",
    "          | Add Expr Expr\n",
    "          deriving Show"
   ]
  },
  {
   "cell_type": "code",
   "execution_count": 4,
   "metadata": {},
   "outputs": [],
   "source": [
    "eval :: Expr -> Int\n",
    "eval (Val n) = n\n",
    "eval (Add e1 e2) = eval e1 + eval e2"
   ]
  },
  {
   "cell_type": "code",
   "execution_count": 5,
   "metadata": {},
   "outputs": [
    {
     "data": {
      "text/plain": [
       "9"
      ]
     },
     "metadata": {},
     "output_type": "display_data"
    }
   ],
   "source": [
    "eval (Add (Add (Val 2) (Val 3)) (Val 4)) -- (2 + 3) + 4"
   ]
  },
  {
   "cell_type": "code",
   "execution_count": 6,
   "metadata": {},
   "outputs": [
    {
     "data": {
      "text/plain": [
       "9"
      ]
     },
     "metadata": {},
     "output_type": "display_data"
    }
   ],
   "source": [
    "eval $ (Val 2 `Add` Val 3) `Add` (Val 4) -- (2 + 3) + 4"
   ]
  },
  {
   "cell_type": "markdown",
   "metadata": {},
   "source": [
    "연산자의 왼쪽부터 계산 순서를 강제하는"
   ]
  },
  {
   "cell_type": "code",
   "execution_count": 7,
   "metadata": {},
   "outputs": [],
   "source": [
    "type Stack = [Int]\n",
    "push n s = n : s\n",
    "add n1 n2 s = n2 : n1 : s\n",
    "\n",
    "evalL :: Expr -> Stack -> Stack\n",
    "evalL (Val n)     s = n : s\n",
    "evalL (Add e1 e2) s = n1+n2 : s'\n",
    "  where \n",
    "  s1 = evalL e1 s\n",
    "  s2 = evalL e2 s1\n",
    "  n2 : n1 : s' = s2 "
   ]
  },
  {
   "cell_type": "code",
   "execution_count": 8,
   "metadata": {},
   "outputs": [
    {
     "data": {
      "text/plain": [
       "[9]"
      ]
     },
     "metadata": {},
     "output_type": "display_data"
    }
   ],
   "source": [
    "evalL (Add (Add (Val 2) (Val 3)) (Val 4)) [] -- (2 + 3) + 4"
   ]
  },
  {
   "cell_type": "markdown",
   "metadata": {},
   "source": [
    "```haskell\n",
    "evalL (Add (Add (Val 2) (Val 3)) (Val 4)) s0\n",
    "\n",
    "        evalL (Add (Val 2) (Val 3)) s0 \n",
    "                evalL (Val 2) s0     ~~>   2:s0\n",
    "                evalL (Val 3) (2:s0) ~~> 3:2:s0\n",
    "        ~~>   5:s0\n",
    "        \n",
    "        evalL (Val 4)\n",
    "        ~~> 4:5:s0\n",
    "\n",
    "~~>\n",
    "9:s0\n",
    "```"
   ]
  },
  {
   "cell_type": "markdown",
   "metadata": {},
   "source": [
    "----\n",
    "###### 연습문제\n",
    "연산자의 오른쪽부터 먼저 계산하는 `evalR` 을 정의하라."
   ]
  },
  {
   "cell_type": "code",
   "execution_count": 9,
   "metadata": {},
   "outputs": [],
   "source": [
    "-- evalR :: Expr -> Stack -> Stack"
   ]
  },
  {
   "cell_type": "markdown",
   "metadata": {},
   "source": [
    "----"
   ]
  },
  {
   "cell_type": "code",
   "execution_count": 10,
   "metadata": {},
   "outputs": [],
   "source": [
    "type Kont = Stack -> Stack\n",
    "\n",
    "pushK :: Int -> Kont\n",
    "pushK n s = n : s\n",
    "\n",
    "addLK :: Kont\n",
    "addLK (n2:n1:s) = (n1 + n2) : s\n",
    "\n",
    "evalL' :: Expr -> Kont\n",
    "evalL' (Val n)     = pushK n\n",
    "evalL' (Add e1 e2) = addLK . evalL' e2 . evalL' e1"
   ]
  },
  {
   "cell_type": "code",
   "execution_count": 11,
   "metadata": {},
   "outputs": [
    {
     "data": {
      "text/plain": [
       "[9]"
      ]
     },
     "metadata": {},
     "output_type": "display_data"
    }
   ],
   "source": [
    "evalL' (Add (Add (Val 2) (Val 3)) (Val 4)) [] -- (2 + 3) + 4"
   ]
  },
  {
   "cell_type": "markdown",
   "metadata": {},
   "source": [
    "```haskell\n",
    "  evalL' (Add (Add (Val 2) (Val 3)) (Val 4)) s0\n",
    "= addLK . evalL' (Add (Val 2) (Val 3)) . eval (Val 4)  $ s0\n",
    "= addLK . (addLK . pushK 2 . pushK 3) . pushK 4  $ s0\n",
    "= addLK .  addLK . pushK 2 . pushK 3  . pushK 4  $ s0\n",
    "= addLK (addLK (pushK 2 (pushK 3 (pushK 4 s0))))\n",
    "= addLK (addLK (pushK 2 (pushK 3 (4 : s0))))\n",
    "= addLK (addLK (pushK 2 (3 : 4 : s0)))\n",
    "= addLK (addLK (2 : 3 : 4 : s0))\n",
    "= addLK (5 : 4 : s0)\n",
    "= addLK (9 : s0)\n",
    "```"
   ]
  },
  {
   "cell_type": "markdown",
   "metadata": {},
   "source": [
    "----\n",
    "###### 연습문제\n",
    "컨티뉴에이션 즉 \"다음에 할 일\" 개념을 바탕으로\n",
    "연산자의 오른쪽부터 먼저 계산하는 `evalR'` 을 정의하라.\n",
    "오른쪽부터 먼저 계산된 경우의 스택에 대해 \"다음에 할 일\"로\n",
    "덧셈을 하는 `addRK :: Kont`를 정의하고 나면 그 다음부터는 쉽다."
   ]
  },
  {
   "cell_type": "code",
   "execution_count": 12,
   "metadata": {},
   "outputs": [],
   "source": [
    "-- addRK :: Kont\n",
    "\n",
    "-- evalR' :: Expr -> Kont"
   ]
  },
  {
   "cell_type": "markdown",
   "metadata": {},
   "source": [
    "----"
   ]
  }
 ],
 "metadata": {
  "kernelspec": {
   "display_name": "Haskell",
   "language": "haskell",
   "name": "haskell"
  },
  "language_info": {
   "codemirror_mode": "ihaskell",
   "file_extension": ".hs",
   "name": "haskell",
   "pygments_lexer": "Haskell",
   "version": "8.6.5"
  }
 },
 "nbformat": 4,
 "nbformat_minor": 4
}
