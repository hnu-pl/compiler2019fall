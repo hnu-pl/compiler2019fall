{
 "cells": [
  {
   "cell_type": "code",
   "execution_count": 1,
   "metadata": {},
   "outputs": [],
   "source": [
    ":opt no-lint"
   ]
  },
  {
   "cell_type": "markdown",
   "metadata": {},
   "source": [
    "# 인터프리터 맛보기\n",
    "\n",
    "* PiH2nd 8.7, 16.7, 17"
   ]
  },
  {
   "cell_type": "code",
   "execution_count": 1,
   "metadata": {},
   "outputs": [],
   "source": [
    "data Expr = Val Int         -- \"6\"을 (Val 6)\n",
    "          | Add Expr Expr   -- \"2+3\"을 (Add (Val 2) (Val 3))\n",
    "          deriving Show"
   ]
  },
  {
   "cell_type": "code",
   "execution_count": 2,
   "metadata": {},
   "outputs": [],
   "source": [
    "eval :: Expr -> Int\n",
    "eval (Val n) = n\n",
    "eval (Add e1 e2) = eval e1 + eval e2"
   ]
  },
  {
   "cell_type": "markdown",
   "metadata": {},
   "source": [
    "`eval`을 추론 규칙으로 나타내면\n",
    "\n",
    "$\\displaystyle\n",
    "\\frac{~~}{n \\Downarrow n}\n",
    "\\qquad\n",
    "\\frac{e_1 \\Downarrow n_1 \\quad e_2 \\Downarrow n_2 \\quad n=n_1+n_2}{\n",
    "      e_1 + e_2 \\Downarrow n}\n",
    "$\n"
   ]
  },
  {
   "cell_type": "code",
   "execution_count": 3,
   "metadata": {},
   "outputs": [
    {
     "data": {
      "text/plain": [
       "9"
      ]
     },
     "metadata": {},
     "output_type": "display_data"
    }
   ],
   "source": [
    "eval (Add (Add (Val 2) (Val 3)) (Val 4)) -- (2 + 3) + 4"
   ]
  },
  {
   "cell_type": "code",
   "execution_count": 4,
   "metadata": {},
   "outputs": [
    {
     "data": {
      "text/html": [
       "<style>/* Styles used for the Hoogle display in the pager */\n",
       ".hoogle-doc {\n",
       "display: block;\n",
       "padding-bottom: 1.3em;\n",
       "padding-left: 0.4em;\n",
       "}\n",
       ".hoogle-code {\n",
       "display: block;\n",
       "font-family: monospace;\n",
       "white-space: pre;\n",
       "}\n",
       ".hoogle-text {\n",
       "display: block;\n",
       "}\n",
       ".hoogle-name {\n",
       "color: green;\n",
       "font-weight: bold;\n",
       "}\n",
       ".hoogle-head {\n",
       "font-weight: bold;\n",
       "}\n",
       ".hoogle-sub {\n",
       "display: block;\n",
       "margin-left: 0.4em;\n",
       "}\n",
       ".hoogle-package {\n",
       "font-weight: bold;\n",
       "font-style: italic;\n",
       "}\n",
       ".hoogle-module {\n",
       "font-weight: bold;\n",
       "}\n",
       ".hoogle-class {\n",
       "font-weight: bold;\n",
       "}\n",
       ".get-type {\n",
       "color: green;\n",
       "font-weight: bold;\n",
       "font-family: monospace;\n",
       "display: block;\n",
       "white-space: pre-wrap;\n",
       "}\n",
       ".show-type {\n",
       "color: green;\n",
       "font-weight: bold;\n",
       "font-family: monospace;\n",
       "margin-left: 1em;\n",
       "}\n",
       ".mono {\n",
       "font-family: monospace;\n",
       "display: block;\n",
       "}\n",
       ".err-msg {\n",
       "color: red;\n",
       "font-style: italic;\n",
       "font-family: monospace;\n",
       "white-space: pre;\n",
       "display: block;\n",
       "}\n",
       "#unshowable {\n",
       "color: red;\n",
       "font-weight: bold;\n",
       "}\n",
       ".err-msg.in.collapse {\n",
       "padding-top: 0.7em;\n",
       "}\n",
       ".highlight-code {\n",
       "white-space: pre;\n",
       "font-family: monospace;\n",
       "}\n",
       ".suggestion-warning { \n",
       "font-weight: bold;\n",
       "color: rgb(200, 130, 0);\n",
       "}\n",
       ".suggestion-error { \n",
       "font-weight: bold;\n",
       "color: red;\n",
       "}\n",
       ".suggestion-name {\n",
       "font-weight: bold;\n",
       "}\n",
       "</style><div class=\"suggestion-name\" style=\"clear:both;\">Redundant bracket</div><div class=\"suggestion-row\" style=\"float: left;\"><div class=\"suggestion-warning\">Found:</div><div class=\"highlight-code\" id=\"haskell\">(Val 2 `Add` Val 3) `Add` (Val 4)</div></div><div class=\"suggestion-row\" style=\"float: left;\"><div class=\"suggestion-warning\">Why Not:</div><div class=\"highlight-code\" id=\"haskell\">(Val 2 `Add` Val 3) `Add` Val 4</div></div>"
      ],
      "text/plain": [
       "Line 1: Redundant bracket\n",
       "Found:\n",
       "(Val 2 `Add` Val 3) `Add` (Val 4)\n",
       "Why not:\n",
       "(Val 2 `Add` Val 3) `Add` Val 4"
      ]
     },
     "metadata": {},
     "output_type": "display_data"
    },
    {
     "data": {
      "text/plain": [
       "9"
      ]
     },
     "metadata": {},
     "output_type": "display_data"
    }
   ],
   "source": [
    "eval $ (Val 2 `Add` Val 3) `Add` (Val 4) -- (2 + 3) + 4"
   ]
  },
  {
   "cell_type": "markdown",
   "metadata": {},
   "source": [
    "위에서 살펴본 가장 간단한 인터프리터는 분명 맞는 결과를 계산한다.\n",
    "하지만 내가 정의한 언어에서 계산 순서를 정하고 싶다면 어떨까?\n",
    "예를 들어 어떤 언어는 함수를 호출할 때 왼쪽에 있는 인자부터 먼저 계산한다던가\n",
    "또 다른 언어는 오른쪽에 있는 인자부터 계산한다던가 하는 순서를 정해 놓기도 하고,\n",
    "또 어떤 언어는 그런 순서는 정의되어 있지 않고 언어를 구현하는 사람이\n",
    "(즉 인터프리터나 컴파일러 등을 만드는 개발자가) 자유롭게 해도 무방하다고 약속하는 경우도 있다.\n",
    "\n",
    "만약 우리의 정수 덧셈 언어에서 덧셈의 왼쪽부터 먼저 항상 계산하도록 하려면 eval과는 조금 다른 방식으로 인터프리터를 정의해야 된다.\n",
    "이제부터는 스택이라는 데이타 구조를 활용해 연산자의 왼쪽부터 계산 순서를 강제하는 (... 것처럼 보이는 ...) 함수를 정의해 보자.\n",
    "\n",
    "\"강제하는 (... 것처럼 보이는 ...)\"이라고 이야기하는 이유는 하스켈이 기본적으로 게으른 계산법을 따르는 프로그래밍 언어이기 때문에\n",
    "아래와 같은 코드에서는 GHC가 제공하는 언어 확장 기능을 사용해야 실제로 계산 순서가 강제되지만 여기서는 그냥 개념적으로만 이해를\n",
    "돕기 위한 코드로 생각하자. (실제로 하스켈 프로그램 실행시에 우리가 의도한 대로 계산 순서를 강제하려면\n",
    "`BangPattenrs`라는 GHC 확장을 허용하고 `push !n s = n : s`라고 정의를 수정하면 되긴 하는데 수업 진행상 여기까진 굳이 몰라도 된다)"
   ]
  },
  {
   "cell_type": "code",
   "execution_count": 5,
   "metadata": {},
   "outputs": [],
   "source": [
    "type Stack = [ Int ]\n",
    "\n",
    "-- 스택 기본 연산\n",
    "push :: Int -> Stack -> Stack\n",
    "push n s = n : s\n",
    "pop :: Stack -> Stack\n",
    "pop (n:s) = s\n",
    "top :: Stack -> Int\n",
    "top (n:_) = n"
   ]
  },
  {
   "cell_type": "code",
   "execution_count": 6,
   "metadata": {},
   "outputs": [
    {
     "data": {
      "text/plain": [
       "[4,1,2,3]"
      ]
     },
     "metadata": {},
     "output_type": "display_data"
    },
    {
     "data": {
      "text/plain": [
       "[2,3]"
      ]
     },
     "metadata": {},
     "output_type": "display_data"
    },
    {
     "data": {
      "text/plain": [
       "1"
      ]
     },
     "metadata": {},
     "output_type": "display_data"
    }
   ],
   "source": [
    "push 4 [1,2,3]\n",
    "pop [1,2,3]\n",
    "top [1,2,3]"
   ]
  },
  {
   "cell_type": "code",
   "execution_count": 10,
   "metadata": {},
   "outputs": [
    {
     "data": {
      "text/plain": [
       "13"
      ]
     },
     "metadata": {},
     "output_type": "display_data"
    },
    {
     "data": {
      "text/plain": [
       "13"
      ]
     },
     "metadata": {},
     "output_type": "display_data"
    }
   ],
   "source": [
    "f1 z =  let x = 1\n",
    "            y = 2\n",
    "         in x + y + z\n",
    "\n",
    "f1 10\n",
    "\n",
    "f2 z = x + y + z\n",
    "     where\n",
    "       x = 1\n",
    "       y = 2\n",
    "\n",
    "f2 10"
   ]
  },
  {
   "cell_type": "code",
   "execution_count": 11,
   "metadata": {},
   "outputs": [],
   "source": [
    "-- 스택 기본 연산으로 스택을 활용한 덧셈 연산 정의\n",
    "addL :: Stack -> Stack\n",
    "addL s2 = push (n1+n2) s0\n",
    "  where  -- addL [3,4,5,6] 즉 s2 = [3,4,5,6] 이면\n",
    "    n2 = top s2  -- n2 = 3\n",
    "    s1 = pop s2  -- s1 = [4,5,6]\n",
    "    n1 = top s1  -- n1 = 4\n",
    "    s0 = pop s1  -- s0 = [5,6]\n",
    "\n",
    "--       Expr ->(Stack -> Stack)\n",
    "evalL :: Expr -> Stack -> Stack\n",
    "evalL (Val n)     s = push n s\n",
    "evalL (Add e1 e2) s = addL s2\n",
    "  where \n",
    "  s1 = evalL e1 s\n",
    "  s2 = evalL e2 s1"
   ]
  },
  {
   "cell_type": "code",
   "execution_count": 12,
   "metadata": {},
   "outputs": [
    {
     "data": {
      "text/plain": [
       "[7,5,6]"
      ]
     },
     "metadata": {},
     "output_type": "display_data"
    }
   ],
   "source": [
    "addL [3,4,5,6]"
   ]
  },
  {
   "cell_type": "markdown",
   "metadata": {},
   "source": [
    "`evalL`을 추론규칙 형태로 나타내면\n",
    "\n",
    "$\\displaystyle\n",
    "\\frac{~~}{n \\models s \\;-\\!\\!\\!\\!\\twoheadrightarrow n:s}\n",
    "\\qquad\n",
    "\\frac{e_1 \\models s  \\;-\\!\\!\\!\\!\\twoheadrightarrow n_1:s \\\\\n",
    "      e_2 \\models n_1:s \\;-\\!\\!\\!\\!\\twoheadrightarrow n_2:n_1:s \\quad~~\n",
    "      n = n_1 + n_2\n",
    "     }{\n",
    "      e_1 + e_2 \\models s \\;-\\!\\!\\!\\!\\twoheadrightarrow n:s \\qquad\\qquad\\qquad}\n",
    "$"
   ]
  },
  {
   "cell_type": "code",
   "execution_count": 16,
   "metadata": {},
   "outputs": [
    {
     "data": {
      "text/plain": [
       "[9]"
      ]
     },
     "metadata": {},
     "output_type": "display_data"
    }
   ],
   "source": [
    "evalL (Add (Add (Val 2) (Val 3)) (Val 4)) [] -- (2 + 3) + 4"
   ]
  },
  {
   "cell_type": "markdown",
   "metadata": {},
   "source": [
    "```haskell\n",
    "evalL (Add (Add (Val 2) (Val 3)) (Val 4)) s0\n",
    "\n",
    "        evalL (Add (Val 2) (Val 3)) s0 \n",
    "                evalL (Val 2) s0     ~~>   2:s0\n",
    "                evalL (Val 3) (2:s0) ~~> 3:2:s0\n",
    "        ~~>   5:s0\n",
    "        \n",
    "        evalL (Val 4)\n",
    "        ~~> 4:5:s0\n",
    "\n",
    "~~>\n",
    "9:s0\n",
    "```"
   ]
  },
  {
   "cell_type": "markdown",
   "metadata": {},
   "source": [
    "----\n",
    "###### 연습문제\n",
    "연산자의 오른쪽부터 먼저 계산하는 `evalR` 을 정의하라."
   ]
  },
  {
   "cell_type": "code",
   "execution_count": 10,
   "metadata": {},
   "outputs": [],
   "source": [
    "-- evalR :: Expr -> Stack -> Stack"
   ]
  },
  {
   "cell_type": "markdown",
   "metadata": {},
   "source": [
    "----"
   ]
  },
  {
   "cell_type": "markdown",
   "metadata": {},
   "source": [
    "`(.)`은 합성함수 연산자\n",
    "```haskell\n",
    "(f . g)(x) = f(g(x))\n",
    "```"
   ]
  },
  {
   "cell_type": "code",
   "execution_count": 18,
   "metadata": {},
   "outputs": [
    {
     "data": {
      "text/html": [
       "<style>/* Styles used for the Hoogle display in the pager */\n",
       ".hoogle-doc {\n",
       "display: block;\n",
       "padding-bottom: 1.3em;\n",
       "padding-left: 0.4em;\n",
       "}\n",
       ".hoogle-code {\n",
       "display: block;\n",
       "font-family: monospace;\n",
       "white-space: pre;\n",
       "}\n",
       ".hoogle-text {\n",
       "display: block;\n",
       "}\n",
       ".hoogle-name {\n",
       "color: green;\n",
       "font-weight: bold;\n",
       "}\n",
       ".hoogle-head {\n",
       "font-weight: bold;\n",
       "}\n",
       ".hoogle-sub {\n",
       "display: block;\n",
       "margin-left: 0.4em;\n",
       "}\n",
       ".hoogle-package {\n",
       "font-weight: bold;\n",
       "font-style: italic;\n",
       "}\n",
       ".hoogle-module {\n",
       "font-weight: bold;\n",
       "}\n",
       ".hoogle-class {\n",
       "font-weight: bold;\n",
       "}\n",
       ".get-type {\n",
       "color: green;\n",
       "font-weight: bold;\n",
       "font-family: monospace;\n",
       "display: block;\n",
       "white-space: pre-wrap;\n",
       "}\n",
       ".show-type {\n",
       "color: green;\n",
       "font-weight: bold;\n",
       "font-family: monospace;\n",
       "margin-left: 1em;\n",
       "}\n",
       ".mono {\n",
       "font-family: monospace;\n",
       "display: block;\n",
       "}\n",
       ".err-msg {\n",
       "color: red;\n",
       "font-style: italic;\n",
       "font-family: monospace;\n",
       "white-space: pre;\n",
       "display: block;\n",
       "}\n",
       "#unshowable {\n",
       "color: red;\n",
       "font-weight: bold;\n",
       "}\n",
       ".err-msg.in.collapse {\n",
       "padding-top: 0.7em;\n",
       "}\n",
       ".highlight-code {\n",
       "white-space: pre;\n",
       "font-family: monospace;\n",
       "}\n",
       ".suggestion-warning { \n",
       "font-weight: bold;\n",
       "color: rgb(200, 130, 0);\n",
       "}\n",
       ".suggestion-error { \n",
       "font-weight: bold;\n",
       "color: red;\n",
       "}\n",
       ".suggestion-name {\n",
       "font-weight: bold;\n",
       "}\n",
       "</style><span class='get-type'>(.) :: forall b c a. (b -> c) -> (a -> b) -> a -> c</span>"
      ],
      "text/plain": [
       "(.) :: forall b c a. (b -> c) -> (a -> b) -> a -> c"
      ]
     },
     "metadata": {},
     "output_type": "display_data"
    },
    {
     "data": {
      "text/plain": [
       "21"
      ]
     },
     "metadata": {},
     "output_type": "display_data"
    }
   ],
   "source": [
    ":type (.)\n",
    "((+1) . (*2)) 10"
   ]
  },
  {
   "cell_type": "code",
   "execution_count": 19,
   "metadata": {},
   "outputs": [],
   "source": [
    "-- Kont는 스택 변환 함수의 타입을 줄여서 쓴 것\n",
    "type Kont = Stack -> Stack\n",
    "\n",
    "pushK :: Int -> Kont\n",
    "pushK n = push n\n",
    "\n",
    "addLK :: Kont\n",
    "addLK = addL\n",
    "\n",
    "evalL' :: Expr -> Kont\n",
    "evalL' (Val n)     = pushK n\n",
    "evalL' (Add e1 e2) = addLK . evalL' e2 . evalL' e1"
   ]
  },
  {
   "cell_type": "markdown",
   "metadata": {},
   "source": [
    "`evalL'`을 다음과 같은 방식으로 표현하기도 한다.\n",
    "\n",
    "$\\displaystyle\n",
    "\\;[\\!\\!\\![\\; n \\;]\\!\\!\\!]\\; = \\textit{pushK}~n\n",
    "\\\\\n",
    "\\;[\\!\\!\\![\\; e_1 + e_2 \\;]\\!\\!\\!]\\; = \\textit{addLK} \\circ \\;[\\!\\!\\![\\; e_1 \\;]\\!\\!\\!]\\; \\circ \\;[\\!\\!\\![\\; e_2 \\;]\\!\\!\\!]\\;\n",
    "$\n",
    "\n",
    "결국 evalL과 같은 일을 하는 함수인데 이렇게 포장을 좀 바꾸니\n",
    "evalL'는 이전 단계 스택을 받아 다음 단계의 스택을 내놓는 함수로 이해할 수 있다.\n",
    "즉 스택을 활용한 인터프리터는 스택 변환 함수를 만들어내는 함수인 것이다.\n",
    "\n",
    "계산 결과는 `evalL`과 당연히 같다."
   ]
  },
  {
   "cell_type": "code",
   "execution_count": 20,
   "metadata": {},
   "outputs": [
    {
     "data": {
      "text/plain": [
       "[9]"
      ]
     },
     "metadata": {},
     "output_type": "display_data"
    }
   ],
   "source": [
    "evalL' (Add (Add (Val 2) (Val 3)) (Val 4)) [] -- (2 + 3) + 4"
   ]
  },
  {
   "cell_type": "markdown",
   "metadata": {},
   "source": [
    "하지만 이렇게 정의를 스택 변환 함수를 만들어내는 함수로써 인터프리터를 이해할 수 있으므로\n",
    "합성함수의 성질을 이용한 아래와 같은 식 전개가 가능하다.\n",
    "\n",
    "```haskell\n",
    "  evalL' (Add (Add (Val 2) (Val 3)) (Val 4)) s0\n",
    "= ( addLK . eval (Val 4) . evalL' (Add (Val 2) (Val 3)) ) s0\n",
    "= ( addLK . eval (Val 4) . evalL' (Add (Val 2) (Val 3)) ) s0\n",
    "= ( addLK . pushK 4 . (addLK . pushK 3 . pushK 2) ) s0\n",
    "= ( addLK . pushK 4 .  addLK . pushK 3 . pushK 2  ) s0\n",
    "= addLK (pushK 4 (addLK (pushK 3 (pushK 2 s0))))\n",
    "= addLK (pushK 4 (addLK (pushK 3 (2 : s0))))\n",
    "= addLK (pushK 4 (addLK (3 : 2 : s0)))\n",
    "= addLK (pushK 4 (addLK (5 : s0))\n",
    "= addLK (5 : 4 : s0)\n",
    "= 9 : s0\n",
    "```"
   ]
  },
  {
   "cell_type": "markdown",
   "metadata": {},
   "source": [
    "----\n",
    "###### 연습문제\n",
    "`evalL'`과 같이 스택 변환 함수를 만들어내는 방식으로\n",
    "연산자의 오른쪽부터 먼저 계산하는 `evalR'` 을 정의하라.\n",
    "오른쪽부터 먼저 계산된 경우의 스택에 대해 \"다음에 할 일\"로\n",
    "덧셈을 하는 `addRK :: Kont`를 정의하고 나면 그 다음부터는 쉽다."
   ]
  },
  {
   "cell_type": "code",
   "execution_count": 13,
   "metadata": {},
   "outputs": [],
   "source": [
    "-- addRK :: Kont\n",
    "\n",
    "-- evalR' :: Expr -> Kont"
   ]
  },
  {
   "cell_type": "markdown",
   "metadata": {},
   "source": [
    "----"
   ]
  }
 ],
 "metadata": {
  "kernelspec": {
   "display_name": "Haskell",
   "language": "haskell",
   "name": "haskell"
  },
  "language_info": {
   "codemirror_mode": "ihaskell",
   "file_extension": ".hs",
   "name": "haskell",
   "pygments_lexer": "Haskell",
   "version": "8.6.5"
  }
 },
 "nbformat": 4,
 "nbformat_minor": 4
}
