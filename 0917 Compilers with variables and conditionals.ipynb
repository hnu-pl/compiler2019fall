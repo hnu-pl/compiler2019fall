{
 "cells": [
  {
   "cell_type": "markdown",
   "metadata": {},
   "source": [
    "# 컴파일러에서 변수, 조건문 다루기\n",
    "TODO"
   ]
  },
  {
   "cell_type": "code",
   "execution_count": 1,
   "metadata": {},
   "outputs": [],
   "source": [
    "data Expr = Var Name\n",
    "          | Val Value\n",
    "          | Add Expr Expr\n",
    "          -- | Sub Expr Expr\n",
    "          -- | Mul Expr Expr\n",
    "          -- | Div Expr Expr\n",
    "          | If Expr Expr Expr\n",
    "          deriving Show\n",
    "\n",
    "type Name = String\n",
    "type Value = Int\n",
    "\n",
    "data Inst = ADD | PUSH Value      -- 스택 명령\n",
    "          | GOTO Code | JMPZ Code -- 실행코드 명령\n",
    "          | READ Addr             -- 메모리 명령\n",
    "          deriving Show\n",
    "type Code = [Inst]\n",
    "\n",
    "type Addr = Int\n",
    "\n",
    "type Env = [ (Name, Value) ]\n",
    "type SymTbl = [ (Name, Addr) ]\n",
    "type Memory = [ (Addr, Value) ]\n",
    "\n",
    "type Stack = [Value]\n",
    "type Kont = (Stack,Memory,Code) -> (Stack,Memory,Code)\n"
   ]
  },
  {
   "cell_type": "code",
   "execution_count": 11,
   "metadata": {},
   "outputs": [],
   "source": [
    "haltK :: Kont\n",
    "haltK (s, mem, _) = (s, mem, [])\n",
    "\n",
    "-- 스택 명령\n",
    "pushK :: Int -> Kont\n",
    "pushK n (s, mem, code) = (n:s, mem, code)\n",
    "\n",
    "addK :: Kont\n",
    "addK (n2:n1:s, mem, code) = ((n1+n2):s, mem, code)\n",
    "\n",
    "-- 실행코드 명령\n",
    "jmpzK :: Code -> Kont\n",
    "jmpzK code (0:s, mem, _) = (s, mem, code)\n",
    "jmpzK _    (_:s, mem, c) = (s, mem, c)\n",
    "\n",
    "gotoK :: Code -> Kont\n",
    "gotoK code (s, mem, _) = (s, mem, code)\n",
    "\n",
    "-- 메모리 명령\n",
    "readK a (s, mem, code) = case lookup a mem of\n",
    "                           Nothing -> error (show a ++ \" uninitialized memory address\")\n",
    "                           Just v  -> (v:s, mem, code)\n"
   ]
  },
  {
   "cell_type": "markdown",
   "metadata": {},
   "source": [
    "지금 내가 주목해서 컴파일하는 부분의 목적 코드를 생성해서 \n",
    "그 다음에 할 일의 코드 앞에다 이어붙이는\n",
    "코드변환함수를 만드는 것이 컴파일러다"
   ]
  },
  {
   "cell_type": "code",
   "execution_count": 12,
   "metadata": {},
   "outputs": [],
   "source": [
    "type Control = Code -> Code -- 코드변환함수\n",
    "-- compile :: SymTbl -> Expr -> Control\n",
    "\n",
    "compile :: SymTbl -> Expr -> Code\n",
    "compile tbl (Var x) = case lookup x tbl of\n",
    "                        Nothing -> error (x ++ \" not found\")\n",
    "                        Just a  -> [READ a]\n",
    "compile tbl (Val n) = [PUSH n]\n",
    "compile tbl (Add e1 e2) = compile tbl e1 ++ compile tbl e2 ++ [ADD]\n",
    "compile tbl (If e e1 e0) =\n",
    "    compile tbl e ++ [JMPZ c0] ++ c1 ++ [GOTO []] ++ c0\n",
    "    where\n",
    "      c1 = compile tbl e1\n",
    "      c0 = compile tbl e0\n",
    "\n",
    "step :: Inst -> Kont\n",
    "step (PUSH n) = pushK n\n",
    "step ADD      = addK\n",
    "step (GOTO c) = gotoK c\n",
    "step (JMPZ c) = jmpzK c\n",
    "step (READ a) = readK a\n",
    "\n",
    "run :: Kont\n",
    "run (s, mem, []) = (s, mem, [])\n",
    "run (s, mem, c:cs) = run (step c (s, mem, cs))"
   ]
  },
  {
   "cell_type": "code",
   "execution_count": 13,
   "metadata": {},
   "outputs": [],
   "source": [
    "import Data.List (union)\n",
    "\n",
    "vars (Var x) = [x]\n",
    "vars (Val _) = []\n",
    "vars (Add e1 e2) = vars e1 `union` vars e2\n",
    "vars (If e e1 e0) = vars e `union` vars e1 `union` vars e0"
   ]
  },
  {
   "cell_type": "code",
   "execution_count": 29,
   "metadata": {},
   "outputs": [
    {
     "data": {
      "text/plain": [
       "[READ 102,READ 103,ADD,PUSH 100,ADD]"
      ]
     },
     "metadata": {},
     "output_type": "display_data"
    }
   ],
   "source": [
    "code0 = compile tbl0 e0\n",
    "code0"
   ]
  },
  {
   "cell_type": "code",
   "execution_count": 28,
   "metadata": {},
   "outputs": [
    {
     "data": {
      "text/plain": [
       "Add (Add (Var \"x\") (Var \"y\")) (Val 100)"
      ]
     },
     "metadata": {},
     "output_type": "display_data"
    }
   ],
   "source": [
    "e0 = Add (Add (Var \"x\") (Var \"y\")) (Val 100)\n",
    "e0"
   ]
  },
  {
   "cell_type": "code",
   "execution_count": 31,
   "metadata": {},
   "outputs": [
    {
     "data": {
      "text/plain": [
       "([110],[(102,7),(103,3)],[])"
      ]
     },
     "metadata": {},
     "output_type": "display_data"
    }
   ],
   "source": [
    "vm0 = ([], [(102,7), (103,3)],code0)\n",
    "\n",
    "run vm0"
   ]
  },
  {
   "cell_type": "code",
   "execution_count": 48,
   "metadata": {},
   "outputs": [],
   "source": [
    "{-  b = ?,  x = 2, y = 4\n",
    "\n",
    "    if b then (x + 3) else y  -}\n",
    "\n",
    "e1 = If (Var \"b\") (Add (Var \"x\") (Val 3)) (Var \"y\")\n",
    "e2 = e1 `Add` Val 1000"
   ]
  },
  {
   "cell_type": "code",
   "execution_count": 49,
   "metadata": {},
   "outputs": [
    {
     "data": {
      "text/plain": [
       "[(\"b\",101),(\"x\",102),(\"y\",103)]"
      ]
     },
     "metadata": {},
     "output_type": "display_data"
    },
    {
     "data": {
      "text/plain": [
       "[(101,2),(102,12),(103,123)]"
      ]
     },
     "metadata": {},
     "output_type": "display_data"
    }
   ],
   "source": [
    "tbl0 = [(\"b\",101),(\"x\",102),(\"y\",103)]\n",
    "tbl0\n",
    "\n",
    "mem0 = [(101,2), (102,12), (103,123)]\n",
    "mem0"
   ]
  },
  {
   "cell_type": "code",
   "execution_count": 50,
   "metadata": {},
   "outputs": [
    {
     "data": {
      "text/plain": [
       "[READ 101,JMPZ [READ 103],READ 102,PUSH 3,ADD,GOTO [],READ 103]"
      ]
     },
     "metadata": {},
     "output_type": "display_data"
    },
    {
     "data": {
      "text/plain": [
       "[READ 101,JMPZ [READ 103],READ 102,PUSH 3,ADD,GOTO [],READ 103,PUSH 1000,ADD]"
      ]
     },
     "metadata": {},
     "output_type": "display_data"
    }
   ],
   "source": [
    "code1 = compile tbl0 e1\n",
    "code1\n",
    "\n",
    "code2 = compile tbl0 e2\n",
    "code2"
   ]
  },
  {
   "cell_type": "code",
   "execution_count": 51,
   "metadata": {},
   "outputs": [
    {
     "data": {
      "text/plain": [
       "([15],[(101,2),(102,12),(103,123)],[])"
      ]
     },
     "metadata": {},
     "output_type": "display_data"
    },
    {
     "data": {
      "text/plain": [
       "([15],[(101,2),(102,12),(103,123)],[])"
      ]
     },
     "metadata": {},
     "output_type": "display_data"
    }
   ],
   "source": [
    "vm1 = ([], mem0, code1)\n",
    "run vm1\n",
    "vm2 = ([], mem0, code2)\n",
    "run vm2"
   ]
  },
  {
   "cell_type": "code",
   "execution_count": null,
   "metadata": {},
   "outputs": [],
   "source": [
    "code1 = compile tbl0 e1\n",
    "code1\n",
    "\n",
    "code2 = compile tbl0 e2\n",
    "code2\n",
    "\n",
    "\n",
    "import GHC.HeapView\n",
    "\n",
    "putStr =<< ppHeapGraph <$> buildHeapGraph 15 code2 (asBox code2)"
   ]
  },
  {
   "cell_type": "code",
   "execution_count": null,
   "metadata": {},
   "outputs": [],
   "source": [
    "vm0@(s0,   _,c0:cs0) = ([], mem0, code2)\n",
    "vm0\n",
    "vm1@(s1,mem1,c1:cs1) = step c0 (s0,mem0,cs0)\n",
    "vm1\n",
    "vm2@(s2,mem2,c2:cs2) = step c1 (s1,mem1,cs1)\n",
    "vm2\n",
    "-- vm3@(s3,mem3,c3:cs3) = step c2 (s2,mem2,cs2)\n",
    "-- vm3\n",
    "\n",
    "run vm0"
   ]
  },
  {
   "cell_type": "code",
   "execution_count": null,
   "metadata": {},
   "outputs": [],
   "source": []
  },
  {
   "cell_type": "markdown",
   "metadata": {},
   "source": []
  },
  {
   "cell_type": "code",
   "execution_count": null,
   "metadata": {},
   "outputs": [],
   "source": []
  }
 ],
 "metadata": {
  "kernelspec": {
   "display_name": "Haskell",
   "language": "haskell",
   "name": "haskell"
  },
  "language_info": {
   "codemirror_mode": "ihaskell",
   "file_extension": ".hs",
   "name": "haskell",
   "pygments_lexer": "Haskell",
   "version": "8.6.5"
  }
 },
 "nbformat": 4,
 "nbformat_minor": 4
}
