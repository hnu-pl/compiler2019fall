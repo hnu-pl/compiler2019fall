{
 "cells": [
  {
   "cell_type": "code",
   "execution_count": 1,
   "metadata": {},
   "outputs": [
    {
     "data": {
      "text/plain": []
     },
     "metadata": {},
     "output_type": "display_data"
    }
   ],
   "source": [
    ":!./install.sh"
   ]
  },
  {
   "cell_type": "code",
   "execution_count": 2,
   "metadata": {},
   "outputs": [],
   "source": [
    ":opt no-lint"
   ]
  },
  {
   "cell_type": "markdown",
   "metadata": {},
   "source": [
    "# 인터프리터에서 컴파일러로\n",
    "스택변환함수 개념으로 작성된 인터프리터를 다시 살펴보자.\n",
    "지난 번 노트북에서는 스택 기본 연산을 정의해서 기본 연산을 이용해서 추상적인 스택을 다루는 방식으로 다른 연산을 정의했다.\n",
    "스택을 꼭 리스트로만 구현하라는 법은 없기 때문에 추상데이타타입으로 접근하는 것이 차후에 코드 유지보수 측면에서도 바람직할 수도 있다.\n",
    "하지만 우리가 이걸로 지금 진짜 프로그래머들이 사용할 프로그래밍언어를 구현하자는 것도 아니고\n",
    "인터프리터와 컴파일러 관련 기본 개념을 실행가능한 코드를 통해 구체적으로 이해하기 위한 것이 주목적이므로, \n",
    "여기서는 그냥 코드 길이를 좀 짧게 줄이기 위해서 `addK`같은 연산을 그냥 리스트에 대한 패턴 매칭으로 편하게 작성했다.\n",
    "지난 번 노트북에서는 연산자 왼쪽부터 먼저 계산되었다는 걸 강조하기 위해 `addLK`라고 했지만 이것도 그냥 짧게 `addK`라고 했다."
   ]
  },
  {
   "cell_type": "code",
   "execution_count": 3,
   "metadata": {},
   "outputs": [],
   "source": [
    "data Expr = Val Int\n",
    "          | Add Expr Expr\n",
    "          deriving Show\n",
    "          \n",
    "type Stack = [Int]\n",
    "type Kont = Stack -> Stack\n",
    "\n",
    "haltK :: Kont\n",
    "haltK s = []\n",
    "\n",
    "pushK :: Int -> Kont\n",
    "pushK n s = n : s\n",
    "\n",
    "addK :: Kont\n",
    "addK (n2:n1:s) = (n1 + n2) : s\n",
    "\n",
    "eval :: Expr -> Kont\n",
    "eval (Val n)     = pushK n\n",
    "eval (Add e1 e2) = addK . eval e2 . eval e1"
   ]
  },
  {
   "cell_type": "code",
   "execution_count": 4,
   "metadata": {},
   "outputs": [
    {
     "data": {
      "text/plain": [
       "[9]"
      ]
     },
     "metadata": {},
     "output_type": "display_data"
    }
   ],
   "source": [
    "eval (Add (Add (Val 2) (Val 3)) (Val 4)) [] -- (2 + 3) + 4"
   ]
  },
  {
   "cell_type": "code",
   "execution_count": 5,
   "metadata": {},
   "outputs": [],
   "source": [
    "data Inst = ADD | PUSH Int  deriving Show\n",
    "type Code = [Inst]\n",
    "\n",
    "compile :: Expr -> Code\n",
    "compile (Val n)     = [PUSH n]\n",
    "compile (Add e1 e2) = compile e1 ++ compile e2 ++ [ADD]\n",
    "\n",
    "step :: Inst -> Kont\n",
    "step (PUSH n) = pushK n\n",
    "step ADD      = addK\n",
    "\n",
    "run :: Code -> Kont\n",
    "run []     = haltK\n",
    "run (c:cs) = run cs . step c"
   ]
  },
  {
   "cell_type": "code",
   "execution_count": 6,
   "metadata": {},
   "outputs": [
    {
     "data": {
      "text/plain": [
       "[PUSH 2,PUSH 3,ADD,PUSH 4,ADD]"
      ]
     },
     "metadata": {},
     "output_type": "display_data"
    }
   ],
   "source": [
    "compile (Add (Add (Val 2) (Val 3)) (Val 4))  -- (2 + 3) + 4"
   ]
  },
  {
   "cell_type": "code",
   "execution_count": 7,
   "metadata": {},
   "outputs": [
    {
     "data": {
      "text/plain": [
       "[9]"
      ]
     },
     "metadata": {},
     "output_type": "display_data"
    }
   ],
   "source": [
    "run [PUSH 2,PUSH 3,ADD,PUSH 4,ADD] []"
   ]
  },
  {
   "cell_type": "code",
   "execution_count": 8,
   "metadata": {},
   "outputs": [
    {
     "data": {
      "text/plain": [
       "[]"
      ]
     },
     "metadata": {},
     "output_type": "display_data"
    },
    {
     "data": {
      "text/plain": [
       "[2]"
      ]
     },
     "metadata": {},
     "output_type": "display_data"
    },
    {
     "data": {
      "text/plain": [
       "[3,2]"
      ]
     },
     "metadata": {},
     "output_type": "display_data"
    },
    {
     "data": {
      "text/plain": [
       "[5]"
      ]
     },
     "metadata": {},
     "output_type": "display_data"
    },
    {
     "data": {
      "text/plain": [
       "[4,5]"
      ]
     },
     "metadata": {},
     "output_type": "display_data"
    },
    {
     "data": {
      "text/plain": [
       "[9]"
      ]
     },
     "metadata": {},
     "output_type": "display_data"
    }
   ],
   "source": [
    "s0 = []\n",
    "s1 = step (PUSH 2) s0\n",
    "s2 = step (PUSH 3) s1\n",
    "s3 = step ADD      s2\n",
    "s4 = step (PUSH 4) s3\n",
    "s5 = step ADD      s4\n",
    "\n",
    "s0\n",
    "s1\n",
    "s2\n",
    "s3\n",
    "s4\n",
    "s5"
   ]
  },
  {
   "cell_type": "code",
   "execution_count": null,
   "metadata": {},
   "outputs": [],
   "source": []
  }
 ],
 "metadata": {
  "kernelspec": {
   "display_name": "Haskell",
   "language": "haskell",
   "name": "haskell"
  },
  "language_info": {
   "codemirror_mode": "ihaskell",
   "file_extension": ".hs",
   "name": "haskell",
   "pygments_lexer": "Haskell",
   "version": "8.6.5"
  }
 },
 "nbformat": 4,
 "nbformat_minor": 4
}
